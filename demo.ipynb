{
 "cells": [
  {
   "cell_type": "code",
   "execution_count": 16,
   "metadata": {
    "slideshow": {
     "slide_type": "slide"
    }
   },
   "outputs": [
    {
     "data": {
      "text/html": [
       "<style>pre { line-height: 125%; }\n",
       "td.linenos .normal { color: inherit; background-color: transparent; padding-left: 5px; padding-right: 5px; }\n",
       "span.linenos { color: inherit; background-color: transparent; padding-left: 5px; padding-right: 5px; }\n",
       "td.linenos .special { color: #000000; background-color: #ffffc0; padding-left: 5px; padding-right: 5px; }\n",
       "span.linenos.special { color: #000000; background-color: #ffffc0; padding-left: 5px; padding-right: 5px; }\n",
       ".output_html .hll { background-color: #ffffcc }\n",
       ".output_html { background: #f8f8f8; }\n",
       ".output_html .c { color: #3D7B7B; font-style: italic } /* Comment */\n",
       ".output_html .err { border: 1px solid #FF0000 } /* Error */\n",
       ".output_html .k { color: #008000; font-weight: bold } /* Keyword */\n",
       ".output_html .o { color: #666666 } /* Operator */\n",
       ".output_html .ch { color: #3D7B7B; font-style: italic } /* Comment.Hashbang */\n",
       ".output_html .cm { color: #3D7B7B; font-style: italic } /* Comment.Multiline */\n",
       ".output_html .cp { color: #9C6500 } /* Comment.Preproc */\n",
       ".output_html .cpf { color: #3D7B7B; font-style: italic } /* Comment.PreprocFile */\n",
       ".output_html .c1 { color: #3D7B7B; font-style: italic } /* Comment.Single */\n",
       ".output_html .cs { color: #3D7B7B; font-style: italic } /* Comment.Special */\n",
       ".output_html .gd { color: #A00000 } /* Generic.Deleted */\n",
       ".output_html .ge { font-style: italic } /* Generic.Emph */\n",
       ".output_html .ges { font-weight: bold; font-style: italic } /* Generic.EmphStrong */\n",
       ".output_html .gr { color: #E40000 } /* Generic.Error */\n",
       ".output_html .gh { color: #000080; font-weight: bold } /* Generic.Heading */\n",
       ".output_html .gi { color: #008400 } /* Generic.Inserted */\n",
       ".output_html .go { color: #717171 } /* Generic.Output */\n",
       ".output_html .gp { color: #000080; font-weight: bold } /* Generic.Prompt */\n",
       ".output_html .gs { font-weight: bold } /* Generic.Strong */\n",
       ".output_html .gu { color: #800080; font-weight: bold } /* Generic.Subheading */\n",
       ".output_html .gt { color: #0044DD } /* Generic.Traceback */\n",
       ".output_html .kc { color: #008000; font-weight: bold } /* Keyword.Constant */\n",
       ".output_html .kd { color: #008000; font-weight: bold } /* Keyword.Declaration */\n",
       ".output_html .kn { color: #008000; font-weight: bold } /* Keyword.Namespace */\n",
       ".output_html .kp { color: #008000 } /* Keyword.Pseudo */\n",
       ".output_html .kr { color: #008000; font-weight: bold } /* Keyword.Reserved */\n",
       ".output_html .kt { color: #B00040 } /* Keyword.Type */\n",
       ".output_html .m { color: #666666 } /* Literal.Number */\n",
       ".output_html .s { color: #BA2121 } /* Literal.String */\n",
       ".output_html .na { color: #687822 } /* Name.Attribute */\n",
       ".output_html .nb { color: #008000 } /* Name.Builtin */\n",
       ".output_html .nc { color: #0000FF; font-weight: bold } /* Name.Class */\n",
       ".output_html .no { color: #880000 } /* Name.Constant */\n",
       ".output_html .nd { color: #AA22FF } /* Name.Decorator */\n",
       ".output_html .ni { color: #717171; font-weight: bold } /* Name.Entity */\n",
       ".output_html .ne { color: #CB3F38; font-weight: bold } /* Name.Exception */\n",
       ".output_html .nf { color: #0000FF } /* Name.Function */\n",
       ".output_html .nl { color: #767600 } /* Name.Label */\n",
       ".output_html .nn { color: #0000FF; font-weight: bold } /* Name.Namespace */\n",
       ".output_html .nt { color: #008000; font-weight: bold } /* Name.Tag */\n",
       ".output_html .nv { color: #19177C } /* Name.Variable */\n",
       ".output_html .ow { color: #AA22FF; font-weight: bold } /* Operator.Word */\n",
       ".output_html .w { color: #bbbbbb } /* Text.Whitespace */\n",
       ".output_html .mb { color: #666666 } /* Literal.Number.Bin */\n",
       ".output_html .mf { color: #666666 } /* Literal.Number.Float */\n",
       ".output_html .mh { color: #666666 } /* Literal.Number.Hex */\n",
       ".output_html .mi { color: #666666 } /* Literal.Number.Integer */\n",
       ".output_html .mo { color: #666666 } /* Literal.Number.Oct */\n",
       ".output_html .sa { color: #BA2121 } /* Literal.String.Affix */\n",
       ".output_html .sb { color: #BA2121 } /* Literal.String.Backtick */\n",
       ".output_html .sc { color: #BA2121 } /* Literal.String.Char */\n",
       ".output_html .dl { color: #BA2121 } /* Literal.String.Delimiter */\n",
       ".output_html .sd { color: #BA2121; font-style: italic } /* Literal.String.Doc */\n",
       ".output_html .s2 { color: #BA2121 } /* Literal.String.Double */\n",
       ".output_html .se { color: #AA5D1F; font-weight: bold } /* Literal.String.Escape */\n",
       ".output_html .sh { color: #BA2121 } /* Literal.String.Heredoc */\n",
       ".output_html .si { color: #A45A77; font-weight: bold } /* Literal.String.Interpol */\n",
       ".output_html .sx { color: #008000 } /* Literal.String.Other */\n",
       ".output_html .sr { color: #A45A77 } /* Literal.String.Regex */\n",
       ".output_html .s1 { color: #BA2121 } /* Literal.String.Single */\n",
       ".output_html .ss { color: #19177C } /* Literal.String.Symbol */\n",
       ".output_html .bp { color: #008000 } /* Name.Builtin.Pseudo */\n",
       ".output_html .fm { color: #0000FF } /* Name.Function.Magic */\n",
       ".output_html .vc { color: #19177C } /* Name.Variable.Class */\n",
       ".output_html .vg { color: #19177C } /* Name.Variable.Global */\n",
       ".output_html .vi { color: #19177C } /* Name.Variable.Instance */\n",
       ".output_html .vm { color: #19177C } /* Name.Variable.Magic */\n",
       ".output_html .il { color: #666666 } /* Literal.Number.Integer.Long */</style><div class=\"highlight\"><pre><span></span><span class=\"nb\">terraform</span><span class=\"w\"> </span><span class=\"p\">{</span>\n",
       "<span class=\"w\">  </span><span class=\"nb\">required_providers</span><span class=\"w\"> </span><span class=\"p\">{</span>\n",
       "<span class=\"w\">    </span><span class=\"nb\">linode</span><span class=\"w\"> </span><span class=\"o\">=</span><span class=\"w\"> </span><span class=\"p\">{</span>\n",
       "<span class=\"w\">      </span><span class=\"na\">source</span><span class=\"w\"> </span><span class=\"o\">=</span><span class=\"w\"> </span><span class=\"s2\">&quot;linode/linode&quot;</span>\n",
       "<span class=\"c1\">      # version = &quot;...&quot;</span>\n",
       "<span class=\"w\">    </span><span class=\"p\">}</span>\n",
       "<span class=\"w\">  </span><span class=\"p\">}</span>\n",
       "<span class=\"p\">}</span>\n",
       "\n",
       "<span class=\"kr\">variable</span><span class=\"w\"> </span><span class=\"nv\">&quot;linode_token&quot;</span><span class=\"w\"> </span><span class=\"p\">{</span>\n",
       "<span class=\"w\">  </span><span class=\"na\">type</span><span class=\"w\">      </span><span class=\"o\">=</span><span class=\"w\"> </span><span class=\"kt\">string</span>\n",
       "<span class=\"w\">  </span><span class=\"na\">sensitive</span><span class=\"w\"> </span><span class=\"o\">=</span><span class=\"w\"> </span><span class=\"no\">true</span>\n",
       "<span class=\"p\">}</span>\n",
       "\n",
       "<span class=\"c1\"># Configure the Linode Provider</span>\n",
       "<span class=\"kr\">provider</span><span class=\"w\"> </span><span class=\"nv\">&quot;linode&quot;</span><span class=\"w\"> </span><span class=\"p\">{</span>\n",
       "<span class=\"c1\">  // Linode Personal Access Token from environment variable</span>\n",
       "<span class=\"w\">  </span><span class=\"na\">token</span><span class=\"w\"> </span><span class=\"o\">=</span><span class=\"w\"> </span><span class=\"nv\">var.linode_token</span>\n",
       "\n",
       "<span class=\"p\">}</span>\n",
       "\n",
       "<span class=\"kr\">resource</span><span class=\"w\"> </span><span class=\"nc\">&quot;linode_lke_cluster&quot;</span><span class=\"w\"> </span><span class=\"nv\">&quot;pgo-demo&quot;</span><span class=\"w\"> </span><span class=\"p\">{</span>\n",
       "<span class=\"w\">  </span><span class=\"na\">label</span><span class=\"w\">       </span><span class=\"o\">=</span><span class=\"w\"> </span><span class=\"s2\">&quot;pgo-demo&quot;</span>\n",
       "<span class=\"w\">  </span><span class=\"na\">k8s_version</span><span class=\"w\"> </span><span class=\"o\">=</span><span class=\"w\"> </span><span class=\"s2\">&quot;1.29&quot;</span>\n",
       "<span class=\"w\">  </span><span class=\"na\">region</span><span class=\"w\">      </span><span class=\"o\">=</span><span class=\"w\"> </span><span class=\"s2\">&quot;fr-par&quot;</span>\n",
       "\n",
       "<span class=\"w\">  </span><span class=\"nb\">pool</span><span class=\"w\"> </span><span class=\"p\">{</span>\n",
       "<span class=\"w\">    </span><span class=\"na\">type</span><span class=\"w\">  </span><span class=\"o\">=</span><span class=\"w\"> </span><span class=\"s2\">&quot;g6-standard-2&quot;</span>\n",
       "<span class=\"w\">    </span><span class=\"na\">count</span><span class=\"w\"> </span><span class=\"o\">=</span><span class=\"w\"> </span><span class=\"m\">2</span>\n",
       "<span class=\"w\">  </span><span class=\"p\">}</span>\n",
       "<span class=\"p\">}</span>\n",
       "\n",
       "<span class=\"c1\"># Output the kubeconfig in a file after base64 decoding</span>\n",
       "<span class=\"kr\">resource</span><span class=\"w\"> </span><span class=\"nc\">&quot;local_file&quot;</span><span class=\"w\"> </span><span class=\"nv\">&quot;kubeconfig&quot;</span><span class=\"w\"> </span><span class=\"p\">{</span>\n",
       "<span class=\"w\">  </span><span class=\"na\">content</span><span class=\"w\">  </span><span class=\"o\">=</span><span class=\"w\"> </span><span class=\"nf\">base64decode</span><span class=\"p\">(</span><span class=\"nv\">linode_lke_cluster.pgo-demo.kubeconfig</span><span class=\"p\">)</span>\n",
       "<span class=\"w\">  </span><span class=\"na\">filename</span><span class=\"w\"> </span><span class=\"o\">=</span><span class=\"w\"> </span><span class=\"s2\">&quot;kubeconfig.yaml&quot;</span>\n",
       "<span class=\"p\">}</span>\n",
       "</pre></div>\n"
      ],
      "text/latex": [
       "\\begin{Verbatim}[commandchars=\\\\\\{\\}]\n",
       "\\PY{n+nb}{terraform}\\PY{+w}{ }\\PY{p}{\\PYZob{}}\n",
       "\\PY{+w}{  }\\PY{n+nb}{required\\PYZus{}providers}\\PY{+w}{ }\\PY{p}{\\PYZob{}}\n",
       "\\PY{+w}{    }\\PY{n+nb}{linode}\\PY{+w}{ }\\PY{o}{=}\\PY{+w}{ }\\PY{p}{\\PYZob{}}\n",
       "\\PY{+w}{      }\\PY{n+na}{source}\\PY{+w}{ }\\PY{o}{=}\\PY{+w}{ }\\PY{l+s+s2}{\\PYZdq{}linode/linode\\PYZdq{}}\n",
       "\\PY{c+c1}{      \\PYZsh{} version = \\PYZdq{}...\\PYZdq{}}\n",
       "\\PY{+w}{    }\\PY{p}{\\PYZcb{}}\n",
       "\\PY{+w}{  }\\PY{p}{\\PYZcb{}}\n",
       "\\PY{p}{\\PYZcb{}}\n",
       "\n",
       "\\PY{k+kr}{variable}\\PY{+w}{ }\\PY{n+nv}{\\PYZdq{}linode\\PYZus{}token\\PYZdq{}}\\PY{+w}{ }\\PY{p}{\\PYZob{}}\n",
       "\\PY{+w}{  }\\PY{n+na}{type}\\PY{+w}{      }\\PY{o}{=}\\PY{+w}{ }\\PY{k+kt}{string}\n",
       "\\PY{+w}{  }\\PY{n+na}{sensitive}\\PY{+w}{ }\\PY{o}{=}\\PY{+w}{ }\\PY{n+no}{true}\n",
       "\\PY{p}{\\PYZcb{}}\n",
       "\n",
       "\\PY{c+c1}{\\PYZsh{} Configure the Linode Provider}\n",
       "\\PY{k+kr}{provider}\\PY{+w}{ }\\PY{n+nv}{\\PYZdq{}linode\\PYZdq{}}\\PY{+w}{ }\\PY{p}{\\PYZob{}}\n",
       "\\PY{c+c1}{  // Linode Personal Access Token from environment variable}\n",
       "\\PY{+w}{  }\\PY{n+na}{token}\\PY{+w}{ }\\PY{o}{=}\\PY{+w}{ }\\PY{n+nv}{var.linode\\PYZus{}token}\n",
       "\n",
       "\\PY{p}{\\PYZcb{}}\n",
       "\n",
       "\\PY{k+kr}{resource}\\PY{+w}{ }\\PY{n+nc}{\\PYZdq{}linode\\PYZus{}lke\\PYZus{}cluster\\PYZdq{}}\\PY{+w}{ }\\PY{n+nv}{\\PYZdq{}pgo\\PYZhy{}demo\\PYZdq{}}\\PY{+w}{ }\\PY{p}{\\PYZob{}}\n",
       "\\PY{+w}{  }\\PY{n+na}{label}\\PY{+w}{       }\\PY{o}{=}\\PY{+w}{ }\\PY{l+s+s2}{\\PYZdq{}pgo\\PYZhy{}demo\\PYZdq{}}\n",
       "\\PY{+w}{  }\\PY{n+na}{k8s\\PYZus{}version}\\PY{+w}{ }\\PY{o}{=}\\PY{+w}{ }\\PY{l+s+s2}{\\PYZdq{}1.29\\PYZdq{}}\n",
       "\\PY{+w}{  }\\PY{n+na}{region}\\PY{+w}{      }\\PY{o}{=}\\PY{+w}{ }\\PY{l+s+s2}{\\PYZdq{}fr\\PYZhy{}par\\PYZdq{}}\n",
       "\n",
       "\\PY{+w}{  }\\PY{n+nb}{pool}\\PY{+w}{ }\\PY{p}{\\PYZob{}}\n",
       "\\PY{+w}{    }\\PY{n+na}{type}\\PY{+w}{  }\\PY{o}{=}\\PY{+w}{ }\\PY{l+s+s2}{\\PYZdq{}g6\\PYZhy{}standard\\PYZhy{}2\\PYZdq{}}\n",
       "\\PY{+w}{    }\\PY{n+na}{count}\\PY{+w}{ }\\PY{o}{=}\\PY{+w}{ }\\PY{l+m}{2}\n",
       "\\PY{+w}{  }\\PY{p}{\\PYZcb{}}\n",
       "\\PY{p}{\\PYZcb{}}\n",
       "\n",
       "\\PY{c+c1}{\\PYZsh{} Output the kubeconfig in a file after base64 decoding}\n",
       "\\PY{k+kr}{resource}\\PY{+w}{ }\\PY{n+nc}{\\PYZdq{}local\\PYZus{}file\\PYZdq{}}\\PY{+w}{ }\\PY{n+nv}{\\PYZdq{}kubeconfig\\PYZdq{}}\\PY{+w}{ }\\PY{p}{\\PYZob{}}\n",
       "\\PY{+w}{  }\\PY{n+na}{content}\\PY{+w}{  }\\PY{o}{=}\\PY{+w}{ }\\PY{n+nf}{base64decode}\\PY{p}{(}\\PY{n+nv}{linode\\PYZus{}lke\\PYZus{}cluster.pgo\\PYZhy{}demo.kubeconfig}\\PY{p}{)}\n",
       "\\PY{+w}{  }\\PY{n+na}{filename}\\PY{+w}{ }\\PY{o}{=}\\PY{+w}{ }\\PY{l+s+s2}{\\PYZdq{}kubeconfig.yaml\\PYZdq{}}\n",
       "\\PY{p}{\\PYZcb{}}\n",
       "\\end{Verbatim}\n"
      ],
      "text/plain": [
       "terraform {\n",
       "  required_providers {\n",
       "    linode = {\n",
       "      source = \"linode/linode\"\n",
       "      # version = \"...\"\n",
       "    }\n",
       "  }\n",
       "}\n",
       "\n",
       "variable \"linode_token\" {\n",
       "  type      = string\n",
       "  sensitive = true\n",
       "}\n",
       "\n",
       "# Configure the Linode Provider\n",
       "provider \"linode\" {\n",
       "  // Linode Personal Access Token from environment variable\n",
       "  token = var.linode_token\n",
       "\n",
       "}\n",
       "\n",
       "resource \"linode_lke_cluster\" \"pgo-demo\" {\n",
       "  label       = \"pgo-demo\"\n",
       "  k8s_version = \"1.29\"\n",
       "  region      = \"fr-par\"\n",
       "\n",
       "  pool {\n",
       "    type  = \"g6-standard-2\"\n",
       "    count = 2\n",
       "  }\n",
       "}\n",
       "\n",
       "# Output the kubeconfig in a file after base64 decoding\n",
       "resource \"local_file\" \"kubeconfig\" {\n",
       "  content  = base64decode(linode_lke_cluster.pgo-demo.kubeconfig)\n",
       "  filename = \"kubeconfig.yaml\"\n",
       "}"
      ]
     },
     "execution_count": 16,
     "metadata": {},
     "output_type": "execute_result"
    }
   ],
   "source": [
    "from IPython.display import Code\n",
    "\n",
    "Code(filename='cluster.tf', language='terraform')"
   ]
  },
  {
   "cell_type": "code",
   "execution_count": 17,
   "metadata": {
    "slideshow": {
     "slide_type": "slide"
    }
   },
   "outputs": [
    {
     "name": "stdout",
     "output_type": "stream",
     "text": [
      "\n",
      "Terraform used the selected providers to generate the following execution\n",
      "plan. Resource actions are indicated with the following symbols:\n",
      "  \u001b[32m+\u001b[0m create\u001b[0m\n",
      "\n",
      "Terraform will perform the following actions:\n",
      "\n",
      "\u001b[1m  # linode_lke_cluster.pgo-demo\u001b[0m will be created\n",
      "\u001b[0m  \u001b[32m+\u001b[0m\u001b[0m resource \"linode_lke_cluster\" \"pgo-demo\" {\n",
      "      \u001b[32m+\u001b[0m\u001b[0m api_endpoints = (known after apply)\n",
      "      \u001b[32m+\u001b[0m\u001b[0m dashboard_url = (known after apply)\n",
      "      \u001b[32m+\u001b[0m\u001b[0m id            = (known after apply)\n",
      "      \u001b[32m+\u001b[0m\u001b[0m k8s_version   = \"1.29\"\n",
      "      \u001b[32m+\u001b[0m\u001b[0m kubeconfig    = (sensitive value)\n",
      "      \u001b[32m+\u001b[0m\u001b[0m label         = \"pgo-demo\"\n",
      "      \u001b[32m+\u001b[0m\u001b[0m region        = \"fr-par\"\n",
      "      \u001b[32m+\u001b[0m\u001b[0m status        = (known after apply)\n",
      "      \u001b[32m+\u001b[0m\u001b[0m tags          = (known after apply)\n",
      "\n",
      "      \u001b[32m+\u001b[0m\u001b[0m control_plane (known after apply)\n",
      "\n",
      "      \u001b[32m+\u001b[0m\u001b[0m pool {\n",
      "          \u001b[32m+\u001b[0m\u001b[0m count           = 2\n",
      "          \u001b[32m+\u001b[0m\u001b[0m disk_encryption = (known after apply)\n",
      "          \u001b[32m+\u001b[0m\u001b[0m id              = (known after apply)\n",
      "          \u001b[32m+\u001b[0m\u001b[0m nodes           = (known after apply)\n",
      "          \u001b[32m+\u001b[0m\u001b[0m type            = \"g6-standard-2\"\n",
      "        }\n",
      "    }\n",
      "\n",
      "\u001b[1m  # local_file.kubeconfig\u001b[0m will be created\n",
      "\u001b[0m  \u001b[32m+\u001b[0m\u001b[0m resource \"local_file\" \"kubeconfig\" {\n",
      "      \u001b[32m+\u001b[0m\u001b[0m content              = (known after apply)\n",
      "      \u001b[32m+\u001b[0m\u001b[0m content_base64sha256 = (known after apply)\n",
      "      \u001b[32m+\u001b[0m\u001b[0m content_base64sha512 = (known after apply)\n",
      "      \u001b[32m+\u001b[0m\u001b[0m content_md5          = (known after apply)\n",
      "      \u001b[32m+\u001b[0m\u001b[0m content_sha1         = (known after apply)\n",
      "      \u001b[32m+\u001b[0m\u001b[0m content_sha256       = (known after apply)\n",
      "      \u001b[32m+\u001b[0m\u001b[0m content_sha512       = (known after apply)\n",
      "      \u001b[32m+\u001b[0m\u001b[0m directory_permission = \"0777\"\n",
      "      \u001b[32m+\u001b[0m\u001b[0m file_permission      = \"0777\"\n",
      "      \u001b[32m+\u001b[0m\u001b[0m filename             = \"kubeconfig.yaml\"\n",
      "      \u001b[32m+\u001b[0m\u001b[0m id                   = (known after apply)\n",
      "    }\n",
      "\n",
      "\u001b[1mPlan:\u001b[0m 2 to add, 0 to change, 0 to destroy.\n",
      "\u001b[0m\u001b[0m\u001b[1mlinode_lke_cluster.pgo-demo: Creating...\u001b[0m\u001b[0m\n",
      "\u001b[0m\u001b[1mlinode_lke_cluster.pgo-demo: Still creating... [10s elapsed]\u001b[0m\u001b[0m\n",
      "\u001b[0m\u001b[1mlinode_lke_cluster.pgo-demo: Still creating... [20s elapsed]\u001b[0m\u001b[0m\n"
     ]
    },
    {
     "name": "stderr",
     "output_type": "stream",
     "text": [
      "error: lost connection to pod\n"
     ]
    },
    {
     "name": "stdout",
     "output_type": "stream",
     "text": [
      "\u001b[0m\u001b[1mlinode_lke_cluster.pgo-demo: Still creating... [30s elapsed]\u001b[0m\u001b[0m\n",
      "\u001b[0m\u001b[1mlinode_lke_cluster.pgo-demo: Still creating... [40s elapsed]\u001b[0m\u001b[0m\n",
      "\u001b[0m\u001b[1mlinode_lke_cluster.pgo-demo: Still creating... [50s elapsed]\u001b[0m\u001b[0m\n",
      "\u001b[0m\u001b[1mlinode_lke_cluster.pgo-demo: Still creating... [1m0s elapsed]\u001b[0m\u001b[0m\n",
      "\u001b[0m\u001b[1mlinode_lke_cluster.pgo-demo: Creation complete after 1m4s [id=245565]\u001b[0m\n",
      "\u001b[0m\u001b[1mlocal_file.kubeconfig: Creating...\u001b[0m\u001b[0m\n",
      "\u001b[0m\u001b[1mlocal_file.kubeconfig: Creation complete after 0s [id=e8b4391633b68f0d3be6acafc4ddbbda02943d17]\u001b[0m\n",
      "\u001b[0m\u001b[1m\u001b[32m\n",
      "Apply complete! Resources: 2 added, 0 changed, 0 destroyed.\n",
      "\u001b[0m"
     ]
    },
    {
     "data": {
      "text/plain": [
       "0"
      ]
     },
     "execution_count": 17,
     "metadata": {},
     "output_type": "execute_result"
    }
   ],
   "source": [
    "!terraform apply -auto-approve"
   ]
  },
  {
   "cell_type": "code",
   "execution_count": null,
   "metadata": {},
   "outputs": [],
   "source": [
    "from IPython.display import Code\n",
    "\n",
    "Code(filename='kubeconfig.yaml', language='yaml')"
   ]
  },
  {
   "cell_type": "code",
   "execution_count": 21,
   "metadata": {},
   "outputs": [
    {
     "name": "stdout",
     "output_type": "stream",
     "text": [
      "apiVersion: v1\n",
      "clusters:\n",
      "- cluster:\n",
      "    certificate-authority-data: DATA+OMITTED\n",
      "    server: https://441c51eb-da7a-4af6-970b-5a79cd515f80.fr-par-2.linodelke.net:443\n",
      "  name: lke245474\n",
      "contexts:\n",
      "- context:\n",
      "    cluster: lke245474\n",
      "    namespace: default\n",
      "    user: lke245474-admin\n",
      "  name: lke245474-ctx\n",
      "current-context: lke245474-ctx\n",
      "kind: Config\n",
      "preferences: {}\n",
      "users:\n",
      "- name: lke245474-admin\n",
      "  user:\n",
      "    token: REDACTED\n"
     ]
    }
   ],
   "source": [
    "!kubectl config view"
   ]
  },
  {
   "cell_type": "code",
   "execution_count": 23,
   "metadata": {},
   "outputs": [
    {
     "name": "stdout",
     "output_type": "stream",
     "text": [
      "configmap/parca created\n",
      "deployment.apps/parca created\n",
      "namespace/parca unchanged\n",
      "service/parca unchanged\n",
      "serviceaccount/parca unchanged\n"
     ]
    }
   ],
   "source": [
    "!kubectl apply -f https://github.com/parca-dev/parca/releases/download/v0.22.0/kubernetes-manifest.yaml"
   ]
  },
  {
   "cell_type": "code",
   "execution_count": 24,
   "metadata": {},
   "outputs": [
    {
     "name": "stdout",
     "output_type": "stream",
     "text": [
      "namespace/parca unchanged\n",
      "clusterrole.rbac.authorization.k8s.io/parca-agent created\n",
      "clusterrolebinding.rbac.authorization.k8s.io/parca-agent created\n",
      "configmap/parca-agent created\n",
      "daemonset.apps/parca-agent created\n",
      "serviceaccount/parca-agent created\n"
     ]
    }
   ],
   "source": [
    "!kubectl apply -f https://github.com/parca-dev/parca-agent/releases/download/v0.33.1/kubernetes-manifest.yaml"
   ]
  },
  {
   "cell_type": "code",
   "execution_count": 25,
   "metadata": {
    "vscode": {
     "languageId": "shellscript"
    }
   },
   "outputs": [
    {
     "name": "stdout",
     "output_type": "stream",
     "text": [
      "NAME                     READY   STATUS    RESTARTS   AGE   IP         NODE                            NOMINATED NODE   READINESS GATES\n",
      "parca-77f54b74c7-wf26x   0/1     Running   0          17s   10.2.0.6   lke245474-389357-4cdbdaac0000   <none>           <none>\n",
      "parca-agent-8t2gk        1/1     Running   0          8s    10.2.0.7   lke245474-389357-4cdbdaac0000   <none>           <none>\n",
      "parca-77f54b74c7-wf26x   1/1     Running   0          20s   10.2.0.6   lke245474-389357-4cdbdaac0000   <none>           <none>\n",
      "^C\n"
     ]
    }
   ],
   "source": [
    "!kubectl get pods -n parca -o wide -w"
   ]
  },
  {
   "cell_type": "code",
   "execution_count": 2,
   "metadata": {},
   "outputs": [
    {
     "data": {
      "text/plain": [
       "0"
      ]
     },
     "execution_count": 2,
     "metadata": {},
     "output_type": "execute_result"
    },
    {
     "name": "stdout",
     "output_type": "stream",
     "text": [
      "Forwarding from 127.0.0.1:7070 -> 7070\n",
      "Forwarding from [::1]:7070 -> 7070\n",
      "Handling connection for 7070\n",
      "Handling connection for 7070\n",
      "Handling connection for 7070\n",
      "Handling connection for 7070\n",
      "Handling connection for 7070\n",
      "Handling connection for 7070\n",
      "Handling connection for 7070\n"
     ]
    }
   ],
   "source": [
    "import os\n",
    "get_ipython().system = os.system\n",
    "!kubectl -n parca port-forward service/parca 7070 & echo $! > /tmp/parca-forward.pid"
   ]
  },
  {
   "cell_type": "code",
   "execution_count": null,
   "metadata": {},
   "outputs": [],
   "source": [
    "!kill $(cat /tmp/parca-forward.pid)"
   ]
  },
  {
   "cell_type": "code",
   "execution_count": 27,
   "metadata": {},
   "outputs": [
    {
     "data": {
      "text/html": [
       "<a href=\"http://localhost:7070\" target=\"_blank\">Open Parca UI</a>"
      ],
      "text/plain": [
       "<IPython.core.display.HTML object>"
      ]
     },
     "metadata": {},
     "output_type": "display_data"
    },
    {
     "name": "stdout",
     "output_type": "stream",
     "text": [
      "Handling connection for 7070\n",
      "Handling connection for 7070\n",
      "Handling connection for 7070\n"
     ]
    }
   ],
   "source": [
    "from IPython.display import display, HTML\n",
    "\n",
    "display(HTML('<a href=\"http://localhost:7070\" target=\"_blank\">Open Parca UI</a>'))"
   ]
  },
  {
   "cell_type": "code",
   "execution_count": 18,
   "metadata": {},
   "outputs": [
    {
     "data": {
      "text/plain": [
       "0"
      ]
     },
     "execution_count": 18,
     "metadata": {},
     "output_type": "execute_result"
    }
   ],
   "source": [
    "!cd demo; go build -o demo ."
   ]
  },
  {
   "cell_type": "code",
   "execution_count": null,
   "metadata": {},
   "outputs": [],
   "source": [
    "Code(filename='demo/Dockerfile', language='Docker')"
   ]
  },
  {
   "cell_type": "code",
   "execution_count": 50,
   "metadata": {},
   "outputs": [
    {
     "name": "stderr",
     "output_type": "stream",
     "text": [
      "#0 building with \"orbstack\" instance using docker driver\n",
      "\n",
      "#1 [internal] load build definition from Dockerfile\n",
      "#1 transferring dockerfile: 359B done\n",
      "#1 DONE 0.0s\n",
      "\n",
      "#2 [internal] load metadata for docker.io/library/alpine:3.14\n",
      "#2 DONE 1.1s\n",
      "\n",
      "#3 [internal] load metadata for docker.io/library/golang:1.23\n",
      "#3 DONE 1.2s\n",
      "\n",
      "#4 [internal] load .dockerignore\n",
      "#4 transferring context: 2B done\n",
      "#4 DONE 0.0s\n",
      "\n",
      "#5 [builder 1/6] FROM docker.io/library/golang:1.23@sha256:a7f2fc9834049c1f5df787690026a53738e55fc097cd8a4a93faa3e06c67ee32\n",
      "#5 DONE 0.0s\n",
      "\n",
      "#6 [stage-1 1/2] FROM docker.io/library/alpine:3.14@sha256:0f2d5c38dd7a4f4f733e688e3a6733cb5ab1ac6e3cb4603a5dd564e5bfb80eed\n",
      "#6 DONE 0.0s\n",
      "\n",
      "#7 [internal] load build context\n",
      "#7 transferring context: 9.24MB 0.1s done\n",
      "#7 DONE 0.1s\n",
      "\n",
      "#8 [builder 3/6] COPY go.mod go.sum ./\n",
      "#8 CACHED\n",
      "\n",
      "#9 [builder 2/6] WORKDIR /go/src/app\n",
      "#9 CACHED\n",
      "\n",
      "#10 [builder 4/6] RUN go mod download\n",
      "#10 CACHED\n",
      "\n",
      "#11 [builder 5/6] COPY . .\n",
      "#11 DONE 0.2s\n",
      "\n",
      "#12 [builder 6/6] RUN go build -o /go/bin/app -ldflags=\"-extldflags=-static -linkmode 'external'\" .\n",
      "#12 38.17 # example.com/markdown\n",
      "#12 38.17 /usr/bin/ld: /tmp/go-link-451398533/000004.o: in function `_cgo_04fbb8f65a5f_C2func_getaddrinfo':\n",
      "#12 38.17 /tmp/go-build/cgo_unix_cgo.cgo2.c:60: warning: Using 'getaddrinfo' in statically linked applications requires at runtime the shared libraries from the glibc version used for linking\n",
      "#12 DONE 38.5s\n",
      "\n",
      "#13 [stage-1 2/2] COPY --chown=65534:65534 --from=builder /go/bin/app /usr/local/bin/app\n",
      "#13 CACHED\n",
      "\n",
      "#14 exporting to image\n",
      "#14 exporting layers done\n",
      "#14 writing image sha256:32869d09b8d204997e61f95204fef82ebf67de816909fdb3f548e4477b7ba21c done\n",
      "#14 naming to ghcr.io/guilhem/pgo-demo:nopgo\n",
      "#14 naming to ghcr.io/guilhem/pgo-demo:nopgo done\n",
      "#14 DONE 0.0s\n",
      "\n",
      "#15 pushing ghcr.io/guilhem/pgo-demo:nopgo with docker\n",
      "#15 pushing layer 9ceb48e1e826\n",
      "#15 pushing layer 9733ccc39513\n",
      "#15 pushing layer 9ceb48e1e826 1.6s done\n",
      "#15 pushing layer 9733ccc39513 1.6s done\n",
      "#15 DONE 2.8s\n"
     ]
    },
    {
     "data": {
      "text/plain": [
       "0"
      ]
     },
     "execution_count": 50,
     "metadata": {},
     "output_type": "execute_result"
    }
   ],
   "source": [
    "!docker build --platform linux/amd64 -t ghcr.io/guilhem/pgo-demo:nopgo -f demo/Dockerfile --push demo/"
   ]
  },
  {
   "cell_type": "code",
   "execution_count": 53,
   "metadata": {},
   "outputs": [
    {
     "name": "stdout",
     "output_type": "stream",
     "text": [
      "pod/pgo-demo created\n"
     ]
    },
    {
     "data": {
      "text/plain": [
       "0"
      ]
     },
     "execution_count": 53,
     "metadata": {},
     "output_type": "execute_result"
    }
   ],
   "source": [
    "!kubectl run pgo-demo --image=ghcr.io/guilhem/pgo-demo:nopgo --port=8080"
   ]
  },
  {
   "cell_type": "code",
   "execution_count": 10,
   "metadata": {},
   "outputs": [
    {
     "data": {
      "text/plain": [
       "0"
      ]
     },
     "execution_count": 10,
     "metadata": {},
     "output_type": "execute_result"
    },
    {
     "name": "stdout",
     "output_type": "stream",
     "text": [
      "Forwarding from 127.0.0.1:8080 -> 8080\n",
      "Forwarding from [::1]:8080 -> 8080\n"
     ]
    }
   ],
   "source": [
    "import os\n",
    "get_ipython().system = os.system\n",
    "!kubectl port-forward pods/pgo-demo 8080 & echo $! > port-forward.pid"
   ]
  },
  {
   "cell_type": "code",
   "execution_count": null,
   "metadata": {},
   "outputs": [],
   "source": [
    "!kill $(cat port-forward.pid)"
   ]
  },
  {
   "cell_type": "code",
   "execution_count": 55,
   "metadata": {
    "slideshow": {
     "slide_type": "slide"
    }
   },
   "outputs": [
    {
     "name": "stderr",
     "output_type": "stream",
     "text": [
      "  % Total    % Received % Xferd  Average Speed   Time    Time     Time  Current\n",
      "                                 Dload  Upload   Total   Spent    Left  Speed\n",
      "100  1455  100  1455    0     0   4504      0 --:--:-- --:--:-- --:--:--  4518\n"
     ]
    },
    {
     "data": {
      "text/plain": [
       "0"
      ]
     },
     "execution_count": 55,
     "metadata": {},
     "output_type": "execute_result"
    }
   ],
   "source": [
    "!curl -o test.md -L \"https://raw.githubusercontent.com/golang/go/c16c2c49e2fa98ae551fc6335215fadd62d33542/README.md\""
   ]
  },
  {
   "cell_type": "code",
   "execution_count": 56,
   "metadata": {},
   "outputs": [
    {
     "name": "stdout",
     "output_type": "stream",
     "text": [
      "Handling connection for 8080\n",
      "<h1>The Go Programming Language</h1>\n",
      "<p>Go is an open source programming language that makes it easy to build simple,\n",
      "reliable, and efficient software.</p>\n",
      "<p><img src=\"https://golang.org/doc/gopher/fiveyears.jpg\" alt=\"Gopher image\" />\n",
      "<em>Gopher image by <a href=\"https://reneefrench.blogspot.com/\">Renee French</a>, licensed under <a href=\"https://creativecommons.org/licenses/by/4.0/\">Creative Commons 4.0 Attributions license</a>.</em></p>\n",
      "<p>Our canonical Git repository is located at <a href=\"https://go.googlesource.com/go\">https://go.googlesource.com/go</a>.\n",
      "There is a mirror of the repository at <a href=\"https://github.com/golang/go\">https://github.com/golang/go</a>.</p>\n",
      "<p>Unless otherwise noted, the Go source files are distributed under the\n",
      "BSD-style license found in the LICENSE file.</p>\n",
      "<h3>Download and Install</h3>\n",
      "<h4>Binary Distributions</h4>\n",
      "<p>Official binary distributions are available at <a href=\"https://go.dev/dl/\">https://go.dev/dl/</a>.</p>\n",
      "<p>After downloading a binary release, visit <a href=\"https://go.dev/doc/install\">https://go.dev/doc/install</a>\n",
      "for installation instructions.</p>\n",
      "<h4>Install From Source</h4>\n",
      "<p>If a binary distribution is not available for your combination of\n",
      "operating system and architecture, visit\n",
      "<a href=\"https://go.dev/doc/install/source\">https://go.dev/doc/install/source</a>\n",
      "for source installation instructions.</p>\n",
      "<h3>Contributing</h3>\n",
      "<p>Go is the work of thousands of contributors. We appreciate your help!</p>\n",
      "<p>To contribute, please read the contribution guidelines at <a href=\"https://go.dev/doc/contribute\">https://go.dev/doc/contribute</a>.</p>\n",
      "<p>Note that the Go project uses the issue tracker for bug reports and\n",
      "proposals only. See <a href=\"https://go.dev/wiki/Questions\">https://go.dev/wiki/Questions</a> for a list of\n",
      "places to ask questions about the Go language.</p>\n"
     ]
    },
    {
     "name": "stderr",
     "output_type": "stream",
     "text": [
      "  % Total    % Received % Xferd  Average Speed   Time    Time     Time  Current\n",
      "                                 Dload  Upload   Total   Spent    Left  Speed\n",
      "100  3307  100  1852  100  1455  74080  58200 --:--:-- --:--:-- --:--:--  129k\n"
     ]
    },
    {
     "data": {
      "text/plain": [
       "0"
      ]
     },
     "execution_count": 56,
     "metadata": {},
     "output_type": "execute_result"
    }
   ],
   "source": [
    "!curl --data-binary @test.md http://localhost:8080/render"
   ]
  },
  {
   "cell_type": "code",
   "execution_count": null,
   "metadata": {},
   "outputs": [
    {
     "name": "stdout",
     "output_type": "stream",
     "text": [
      "Handling connection for 8080\n"
     ]
    }
   ],
   "source": [
    "!go run github.com/prattmic/markdown-pgo/load@latest"
   ]
  },
  {
   "cell_type": "code",
   "execution_count": 1,
   "metadata": {},
   "outputs": [
    {
     "data": {
      "text/html": [
       "<a href=\"http://localhost:7070/?query_browser_mode=advanced&expression_a=parca_agent%3Asamples%3Acount%3Acpu%3Ananoseconds%3Adelta%7Bnamespace%3D%22default%22%2C%20run%3D%22pgo-demo%22%7D&from_a=1729002421615&to_a=1729003321615&time_selection_a=relative:minute|15&sum_by_a=__none__&merge_from_a=1729002421615&merge_to_a=1729003321615&selection_a=parca_agent%3Asamples%3Acount%3Acpu%3Ananoseconds%3Adelta%7Bnamespace%3D%22default%22%2C%20run%3D%22pgo-demo%22%7D\" target=\"_blank\">Open Parca Query</a>"
      ],
      "text/plain": [
       "<IPython.core.display.HTML object>"
      ]
     },
     "metadata": {},
     "output_type": "display_data"
    }
   ],
   "source": [
    "from IPython.display import display, HTML\n",
    "\n",
    "url = \"http://localhost:7070/?query_browser_mode=advanced&expression_a=parca_agent%3Asamples%3Acount%3Acpu%3Ananoseconds%3Adelta%7Bnamespace%3D%22default%22%2C%20run%3D%22pgo-demo%22%7D&from_a=1729002421615&to_a=1729003321615&time_selection_a=relative:minute|15&sum_by_a=__none__&merge_from_a=1729002421615&merge_to_a=1729003321615&selection_a=parca_agent%3Asamples%3Acount%3Acpu%3Ananoseconds%3Adelta%7Bnamespace%3D%22default%22%2C%20run%3D%22pgo-demo%22%7D\"\n",
    "display(HTML(f'<a href=\"{url}\" target=\"_blank\">Open Parca Query</a>'))"
   ]
  },
  {
   "cell_type": "code",
   "execution_count": 3,
   "metadata": {},
   "outputs": [],
   "source": [
    "%%bash\n",
    "cd demo/\n",
    "mv ~/Downloads/profile.pb.gz ./profile.pb.gz\n",
    "gunzip -f profile.pb.gz"
   ]
  },
  {
   "cell_type": "code",
   "execution_count": 4,
   "metadata": {},
   "outputs": [
    {
     "data": {
      "text/plain": [
       "0"
      ]
     },
     "execution_count": 4,
     "metadata": {},
     "output_type": "execute_result"
    }
   ],
   "source": [
    "!cd demo; go build -o demo-pgo -pgo ./profile.pb ."
   ]
  },
  {
   "cell_type": "code",
   "execution_count": null,
   "metadata": {},
   "outputs": [],
   "source": [
    "from IPython.display import Code\n",
    "\n",
    "Code(filename='demo/Dockerfile.pgo', language='Docker')"
   ]
  },
  {
   "cell_type": "code",
   "execution_count": 5,
   "metadata": {},
   "outputs": [
    {
     "name": "stderr",
     "output_type": "stream",
     "text": [
      "#0 building with \"orbstack\" instance using docker driver\n",
      "\n",
      "#1 [internal] load build definition from Dockerfile.pgo\n",
      "#1 transferring dockerfile: 379B done\n",
      "#1 DONE 0.0s\n",
      "\n",
      "#2 [internal] load metadata for docker.io/library/golang:1.23\n",
      "#2 ...\n",
      "\n",
      "#3 [internal] load metadata for docker.io/library/alpine:3.14\n",
      "#3 DONE 1.7s\n",
      "\n",
      "#2 [internal] load metadata for docker.io/library/golang:1.23\n",
      "#2 DONE 1.8s\n",
      "\n",
      "#4 [internal] load .dockerignore\n",
      "#4 transferring context: 2B done\n",
      "#4 DONE 0.0s\n",
      "\n",
      "#5 [builder 1/6] FROM docker.io/library/golang:1.23@sha256:a7f2fc9834049c1f5df787690026a53738e55fc097cd8a4a93faa3e06c67ee32\n",
      "#5 DONE 0.0s\n",
      "\n",
      "#6 [stage-1 1/2] FROM docker.io/library/alpine:3.14@sha256:0f2d5c38dd7a4f4f733e688e3a6733cb5ab1ac6e3cb4603a5dd564e5bfb80eed\n",
      "#6 DONE 0.0s\n",
      "\n",
      "#7 [internal] load build context\n",
      "#7 transferring context: 9.20MB 0.0s done\n",
      "#7 DONE 0.1s\n",
      "\n",
      "#8 [builder 2/6] WORKDIR /go/src/app\n",
      "#8 CACHED\n",
      "\n",
      "#9 [builder 3/6] COPY go.mod go.sum ./\n",
      "#9 CACHED\n",
      "\n",
      "#10 [builder 4/6] RUN go mod download\n",
      "#10 CACHED\n",
      "\n",
      "#11 [builder 5/6] COPY . .\n",
      "#11 DONE 0.1s\n",
      "\n",
      "#12 [builder 6/6] RUN go build -o /go/bin/app -ldflags=\"-extldflags=-static -linkmode 'external'\" -pgo profile.pb .\n",
      "#12 39.15 # example.com/markdown\n",
      "#12 39.15 /usr/bin/ld: /tmp/go-link-2287403073/000004.o: in function `_cgo_04fbb8f65a5f_C2func_getaddrinfo':\n",
      "#12 39.15 /tmp/go-build/cgo_unix_cgo.cgo2.c:60: warning: Using 'getaddrinfo' in statically linked applications requires at runtime the shared libraries from the glibc version used for linking\n",
      "#12 DONE 39.3s\n",
      "\n",
      "#6 [stage-1 1/2] FROM docker.io/library/alpine:3.14@sha256:0f2d5c38dd7a4f4f733e688e3a6733cb5ab1ac6e3cb4603a5dd564e5bfb80eed\n",
      "#6 CACHED\n",
      "\n",
      "#13 [stage-1 2/2] COPY --chown=65534:65534 --from=builder /go/bin/app /usr/local/bin/app\n",
      "#13 DONE 0.0s\n",
      "\n",
      "#14 exporting to image\n",
      "#14 exporting layers 0.1s done\n",
      "#14 writing image sha256:a7d5fd86ddcda27f2ede184ee5e5f4a61ac61c245fcc3e96353f6cf03c6e2e26 done\n",
      "#14 naming to ghcr.io/guilhem/pgo-demo:pgo done\n",
      "#14 DONE 0.1s\n",
      "\n",
      "#15 pushing ghcr.io/guilhem/pgo-demo:pgo with docker\n",
      "#15 pushing layer e736b30a9be3\n",
      "#15 pushing layer 9733ccc39513\n",
      "#15 pushing layer e736b30a9be3 2.23MB / 10.39MB 1.1s\n",
      "#15 pushing layer e736b30a9be3 4.59MB / 10.39MB 1.2s\n",
      "#15 pushing layer e736b30a9be3 7.08MB / 10.39MB 1.3s\n",
      "#15 pushing layer e736b30a9be3 10.39MB / 10.39MB 1.4s\n",
      "#15 pushing layer e736b30a9be3 3.2s done\n",
      "#15 pushing layer 9733ccc39513 6.1s done\n",
      "#15 DONE 7.3s\n"
     ]
    },
    {
     "data": {
      "text/plain": [
       "0"
      ]
     },
     "execution_count": 5,
     "metadata": {},
     "output_type": "execute_result"
    }
   ],
   "source": [
    "!docker build --platform linux/amd64 -t ghcr.io/guilhem/pgo-demo:pgo -f demo/Dockerfile.pgo --push demo/"
   ]
  },
  {
   "cell_type": "code",
   "execution_count": 6,
   "metadata": {},
   "outputs": [
    {
     "name": "stdout",
     "output_type": "stream",
     "text": [
      "pod/pgo-demo-pgo created\n"
     ]
    },
    {
     "data": {
      "text/plain": [
       "0"
      ]
     },
     "execution_count": 6,
     "metadata": {},
     "output_type": "execute_result"
    }
   ],
   "source": [
    "!kubectl run pgo-demo-pgo --image=ghcr.io/guilhem/pgo-demo:pgo --port=8080"
   ]
  },
  {
   "cell_type": "code",
   "execution_count": 7,
   "metadata": {},
   "outputs": [
    {
     "data": {
      "text/plain": [
       "0"
      ]
     },
     "execution_count": 7,
     "metadata": {},
     "output_type": "execute_result"
    },
    {
     "name": "stdout",
     "output_type": "stream",
     "text": [
      "Forwarding from 127.0.0.1:8081 -> 8080\n",
      "Forwarding from [::1]:8081 -> 8080\n"
     ]
    }
   ],
   "source": [
    "import os\n",
    "get_ipython().system = os.system\n",
    "!kubectl port-forward pods/pgo-demo-pgo 8081:8080 & echo $! > port-forward-pgo.pid"
   ]
  },
  {
   "cell_type": "code",
   "execution_count": 1,
   "metadata": {},
   "outputs": [],
   "source": [
    "!kill $(cat port-forward-pgo.pid)"
   ]
  },
  {
   "cell_type": "code",
   "execution_count": 8,
   "metadata": {},
   "outputs": [
    {
     "name": "stderr",
     "output_type": "stream",
     "text": [
      "go: added github.com/prattmic/markdown-pgo v0.0.0-20230831075821-97e1a165aa5f\n"
     ]
    },
    {
     "data": {
      "text/plain": [
       "0"
      ]
     },
     "execution_count": 8,
     "metadata": {},
     "output_type": "execute_result"
    }
   ],
   "source": [
    "!go get github.com/prattmic/markdown-pgo/load@latest"
   ]
  },
  {
   "cell_type": "code",
   "execution_count": 11,
   "metadata": {},
   "outputs": [
    {
     "name": "stdout",
     "output_type": "stream",
     "text": [
      "Handling connection for 8080\n"
     ]
    },
    {
     "data": {
      "text/html": [
       "<style>pre { line-height: 125%; }\n",
       "td.linenos .normal { color: inherit; background-color: transparent; padding-left: 5px; padding-right: 5px; }\n",
       "span.linenos { color: inherit; background-color: transparent; padding-left: 5px; padding-right: 5px; }\n",
       "td.linenos .special { color: #000000; background-color: #ffffc0; padding-left: 5px; padding-right: 5px; }\n",
       "span.linenos.special { color: #000000; background-color: #ffffc0; padding-left: 5px; padding-right: 5px; }\n",
       ".output_html .hll { background-color: #ffffcc }\n",
       ".output_html { background: #f8f8f8; }\n",
       ".output_html .c { color: #3D7B7B; font-style: italic } /* Comment */\n",
       ".output_html .err { border: 1px solid #FF0000 } /* Error */\n",
       ".output_html .k { color: #008000; font-weight: bold } /* Keyword */\n",
       ".output_html .o { color: #666666 } /* Operator */\n",
       ".output_html .ch { color: #3D7B7B; font-style: italic } /* Comment.Hashbang */\n",
       ".output_html .cm { color: #3D7B7B; font-style: italic } /* Comment.Multiline */\n",
       ".output_html .cp { color: #9C6500 } /* Comment.Preproc */\n",
       ".output_html .cpf { color: #3D7B7B; font-style: italic } /* Comment.PreprocFile */\n",
       ".output_html .c1 { color: #3D7B7B; font-style: italic } /* Comment.Single */\n",
       ".output_html .cs { color: #3D7B7B; font-style: italic } /* Comment.Special */\n",
       ".output_html .gd { color: #A00000 } /* Generic.Deleted */\n",
       ".output_html .ge { font-style: italic } /* Generic.Emph */\n",
       ".output_html .ges { font-weight: bold; font-style: italic } /* Generic.EmphStrong */\n",
       ".output_html .gr { color: #E40000 } /* Generic.Error */\n",
       ".output_html .gh { color: #000080; font-weight: bold } /* Generic.Heading */\n",
       ".output_html .gi { color: #008400 } /* Generic.Inserted */\n",
       ".output_html .go { color: #717171 } /* Generic.Output */\n",
       ".output_html .gp { color: #000080; font-weight: bold } /* Generic.Prompt */\n",
       ".output_html .gs { font-weight: bold } /* Generic.Strong */\n",
       ".output_html .gu { color: #800080; font-weight: bold } /* Generic.Subheading */\n",
       ".output_html .gt { color: #0044DD } /* Generic.Traceback */\n",
       ".output_html .kc { color: #008000; font-weight: bold } /* Keyword.Constant */\n",
       ".output_html .kd { color: #008000; font-weight: bold } /* Keyword.Declaration */\n",
       ".output_html .kn { color: #008000; font-weight: bold } /* Keyword.Namespace */\n",
       ".output_html .kp { color: #008000 } /* Keyword.Pseudo */\n",
       ".output_html .kr { color: #008000; font-weight: bold } /* Keyword.Reserved */\n",
       ".output_html .kt { color: #B00040 } /* Keyword.Type */\n",
       ".output_html .m { color: #666666 } /* Literal.Number */\n",
       ".output_html .s { color: #BA2121 } /* Literal.String */\n",
       ".output_html .na { color: #687822 } /* Name.Attribute */\n",
       ".output_html .nb { color: #008000 } /* Name.Builtin */\n",
       ".output_html .nc { color: #0000FF; font-weight: bold } /* Name.Class */\n",
       ".output_html .no { color: #880000 } /* Name.Constant */\n",
       ".output_html .nd { color: #AA22FF } /* Name.Decorator */\n",
       ".output_html .ni { color: #717171; font-weight: bold } /* Name.Entity */\n",
       ".output_html .ne { color: #CB3F38; font-weight: bold } /* Name.Exception */\n",
       ".output_html .nf { color: #0000FF } /* Name.Function */\n",
       ".output_html .nl { color: #767600 } /* Name.Label */\n",
       ".output_html .nn { color: #0000FF; font-weight: bold } /* Name.Namespace */\n",
       ".output_html .nt { color: #008000; font-weight: bold } /* Name.Tag */\n",
       ".output_html .nv { color: #19177C } /* Name.Variable */\n",
       ".output_html .ow { color: #AA22FF; font-weight: bold } /* Operator.Word */\n",
       ".output_html .w { color: #bbbbbb } /* Text.Whitespace */\n",
       ".output_html .mb { color: #666666 } /* Literal.Number.Bin */\n",
       ".output_html .mf { color: #666666 } /* Literal.Number.Float */\n",
       ".output_html .mh { color: #666666 } /* Literal.Number.Hex */\n",
       ".output_html .mi { color: #666666 } /* Literal.Number.Integer */\n",
       ".output_html .mo { color: #666666 } /* Literal.Number.Oct */\n",
       ".output_html .sa { color: #BA2121 } /* Literal.String.Affix */\n",
       ".output_html .sb { color: #BA2121 } /* Literal.String.Backtick */\n",
       ".output_html .sc { color: #BA2121 } /* Literal.String.Char */\n",
       ".output_html .dl { color: #BA2121 } /* Literal.String.Delimiter */\n",
       ".output_html .sd { color: #BA2121; font-style: italic } /* Literal.String.Doc */\n",
       ".output_html .s2 { color: #BA2121 } /* Literal.String.Double */\n",
       ".output_html .se { color: #AA5D1F; font-weight: bold } /* Literal.String.Escape */\n",
       ".output_html .sh { color: #BA2121 } /* Literal.String.Heredoc */\n",
       ".output_html .si { color: #A45A77; font-weight: bold } /* Literal.String.Interpol */\n",
       ".output_html .sx { color: #008000 } /* Literal.String.Other */\n",
       ".output_html .sr { color: #A45A77 } /* Literal.String.Regex */\n",
       ".output_html .s1 { color: #BA2121 } /* Literal.String.Single */\n",
       ".output_html .ss { color: #19177C } /* Literal.String.Symbol */\n",
       ".output_html .bp { color: #008000 } /* Name.Builtin.Pseudo */\n",
       ".output_html .fm { color: #0000FF } /* Name.Function.Magic */\n",
       ".output_html .vc { color: #19177C } /* Name.Variable.Class */\n",
       ".output_html .vg { color: #19177C } /* Name.Variable.Global */\n",
       ".output_html .vi { color: #19177C } /* Name.Variable.Instance */\n",
       ".output_html .vm { color: #19177C } /* Name.Variable.Magic */\n",
       ".output_html .il { color: #666666 } /* Literal.Number.Integer.Long */</style><div class=\"highlight\"><pre><span></span>goos: darwin\n",
       "goarch: arm64\n",
       "pkg: github.com/prattmic/markdown-pgo/load\n",
       "cpu: Apple M3\n",
       "BenchmarkLoad-8   \t     142\t   8715645 ns/op\n",
       "BenchmarkLoad-8   \t     141\t   8623604 ns/op\n",
       "BenchmarkLoad-8   \t     145\t   8559082 ns/op\n",
       "BenchmarkLoad-8   \t     140\t   8428731 ns/op\n",
       "BenchmarkLoad-8   \t     139\t   8442536 ns/op\n",
       "BenchmarkLoad-8   \t     136\t   8478911 ns/op\n",
       "BenchmarkLoad-8   \t     142\t   8576510 ns/op\n",
       "BenchmarkLoad-8   \t     138\t   8688456 ns/op\n",
       "BenchmarkLoad-8   \t     141\t   8431836 ns/op\n",
       "BenchmarkLoad-8   \t     139\t   8575292 ns/op\n",
       "BenchmarkLoad-8   \t     141\t   8403759 ns/op\n",
       "BenchmarkLoad-8   \t     141\t   8485898 ns/op\n",
       "BenchmarkLoad-8   \t     141\t   8666989 ns/op\n",
       "BenchmarkLoad-8   \t     138\t   8714442 ns/op\n",
       "BenchmarkLoad-8   \t     139\t   8575520 ns/op\n",
       "BenchmarkLoad-8   \t     139\t   8693032 ns/op\n",
       "BenchmarkLoad-8   \t     139\t   8448964 ns/op\n",
       "BenchmarkLoad-8   \t     135\t   8807743 ns/op\n",
       "BenchmarkLoad-8   \t     139\t   8452234 ns/op\n",
       "BenchmarkLoad-8   \t     141\t   8729340 ns/op\n",
       "BenchmarkLoad-8   \t     144\t   8553559 ns/op\n",
       "BenchmarkLoad-8   \t     136\t   8482243 ns/op\n",
       "BenchmarkLoad-8   \t     138\t   8543142 ns/op\n",
       "BenchmarkLoad-8   \t     122\t   8646490 ns/op\n",
       "BenchmarkLoad-8   \t     138\t   8683020 ns/op\n",
       "BenchmarkLoad-8   \t     139\t   8537712 ns/op\n",
       "BenchmarkLoad-8   \t     142\t   8626035 ns/op\n",
       "BenchmarkLoad-8   \t     142\t   8625999 ns/op\n",
       "BenchmarkLoad-8   \t     138\t   8696025 ns/op\n",
       "BenchmarkLoad-8   \t     136\t   8609539 ns/op\n",
       "BenchmarkLoad-8   \t     136\t   8480888 ns/op\n",
       "BenchmarkLoad-8   \t     134\t   8573819 ns/op\n",
       "BenchmarkLoad-8   \t     136\t   8453977 ns/op\n",
       "BenchmarkLoad-8   \t     140\t   8472540 ns/op\n",
       "BenchmarkLoad-8   \t     134\t   8489050 ns/op\n",
       "BenchmarkLoad-8   \t     141\t   8550195 ns/op\n",
       "BenchmarkLoad-8   \t     141\t   8669567 ns/op\n",
       "BenchmarkLoad-8   \t     135\t   8547195 ns/op\n",
       "BenchmarkLoad-8   \t     142\t   8577397 ns/op\n",
       "BenchmarkLoad-8   \t     139\t   8935416 ns/op\n",
       "PASS\n",
       "ok  \tgithub.com/prattmic/markdown-pgo/load\t82.072s\n",
       "</pre></div>\n"
      ],
      "text/latex": [
       "\\begin{Verbatim}[commandchars=\\\\\\{\\}]\n",
       "goos: darwin\n",
       "goarch: arm64\n",
       "pkg: github.com/prattmic/markdown\\PYZhy{}pgo/load\n",
       "cpu: Apple M3\n",
       "BenchmarkLoad\\PYZhy{}8   \t     142\t   8715645 ns/op\n",
       "BenchmarkLoad\\PYZhy{}8   \t     141\t   8623604 ns/op\n",
       "BenchmarkLoad\\PYZhy{}8   \t     145\t   8559082 ns/op\n",
       "BenchmarkLoad\\PYZhy{}8   \t     140\t   8428731 ns/op\n",
       "BenchmarkLoad\\PYZhy{}8   \t     139\t   8442536 ns/op\n",
       "BenchmarkLoad\\PYZhy{}8   \t     136\t   8478911 ns/op\n",
       "BenchmarkLoad\\PYZhy{}8   \t     142\t   8576510 ns/op\n",
       "BenchmarkLoad\\PYZhy{}8   \t     138\t   8688456 ns/op\n",
       "BenchmarkLoad\\PYZhy{}8   \t     141\t   8431836 ns/op\n",
       "BenchmarkLoad\\PYZhy{}8   \t     139\t   8575292 ns/op\n",
       "BenchmarkLoad\\PYZhy{}8   \t     141\t   8403759 ns/op\n",
       "BenchmarkLoad\\PYZhy{}8   \t     141\t   8485898 ns/op\n",
       "BenchmarkLoad\\PYZhy{}8   \t     141\t   8666989 ns/op\n",
       "BenchmarkLoad\\PYZhy{}8   \t     138\t   8714442 ns/op\n",
       "BenchmarkLoad\\PYZhy{}8   \t     139\t   8575520 ns/op\n",
       "BenchmarkLoad\\PYZhy{}8   \t     139\t   8693032 ns/op\n",
       "BenchmarkLoad\\PYZhy{}8   \t     139\t   8448964 ns/op\n",
       "BenchmarkLoad\\PYZhy{}8   \t     135\t   8807743 ns/op\n",
       "BenchmarkLoad\\PYZhy{}8   \t     139\t   8452234 ns/op\n",
       "BenchmarkLoad\\PYZhy{}8   \t     141\t   8729340 ns/op\n",
       "BenchmarkLoad\\PYZhy{}8   \t     144\t   8553559 ns/op\n",
       "BenchmarkLoad\\PYZhy{}8   \t     136\t   8482243 ns/op\n",
       "BenchmarkLoad\\PYZhy{}8   \t     138\t   8543142 ns/op\n",
       "BenchmarkLoad\\PYZhy{}8   \t     122\t   8646490 ns/op\n",
       "BenchmarkLoad\\PYZhy{}8   \t     138\t   8683020 ns/op\n",
       "BenchmarkLoad\\PYZhy{}8   \t     139\t   8537712 ns/op\n",
       "BenchmarkLoad\\PYZhy{}8   \t     142\t   8626035 ns/op\n",
       "BenchmarkLoad\\PYZhy{}8   \t     142\t   8625999 ns/op\n",
       "BenchmarkLoad\\PYZhy{}8   \t     138\t   8696025 ns/op\n",
       "BenchmarkLoad\\PYZhy{}8   \t     136\t   8609539 ns/op\n",
       "BenchmarkLoad\\PYZhy{}8   \t     136\t   8480888 ns/op\n",
       "BenchmarkLoad\\PYZhy{}8   \t     134\t   8573819 ns/op\n",
       "BenchmarkLoad\\PYZhy{}8   \t     136\t   8453977 ns/op\n",
       "BenchmarkLoad\\PYZhy{}8   \t     140\t   8472540 ns/op\n",
       "BenchmarkLoad\\PYZhy{}8   \t     134\t   8489050 ns/op\n",
       "BenchmarkLoad\\PYZhy{}8   \t     141\t   8550195 ns/op\n",
       "BenchmarkLoad\\PYZhy{}8   \t     141\t   8669567 ns/op\n",
       "BenchmarkLoad\\PYZhy{}8   \t     135\t   8547195 ns/op\n",
       "BenchmarkLoad\\PYZhy{}8   \t     142\t   8577397 ns/op\n",
       "BenchmarkLoad\\PYZhy{}8   \t     139\t   8935416 ns/op\n",
       "PASS\n",
       "ok  \tgithub.com/prattmic/markdown\\PYZhy{}pgo/load\t82.072s\n",
       "\\end{Verbatim}\n"
      ],
      "text/plain": [
       "goos: darwin\n",
       "goarch: arm64\n",
       "pkg: github.com/prattmic/markdown-pgo/load\n",
       "cpu: Apple M3\n",
       "BenchmarkLoad-8   \t     142\t   8715645 ns/op\n",
       "BenchmarkLoad-8   \t     141\t   8623604 ns/op\n",
       "BenchmarkLoad-8   \t     145\t   8559082 ns/op\n",
       "BenchmarkLoad-8   \t     140\t   8428731 ns/op\n",
       "BenchmarkLoad-8   \t     139\t   8442536 ns/op\n",
       "BenchmarkLoad-8   \t     136\t   8478911 ns/op\n",
       "BenchmarkLoad-8   \t     142\t   8576510 ns/op\n",
       "BenchmarkLoad-8   \t     138\t   8688456 ns/op\n",
       "BenchmarkLoad-8   \t     141\t   8431836 ns/op\n",
       "BenchmarkLoad-8   \t     139\t   8575292 ns/op\n",
       "BenchmarkLoad-8   \t     141\t   8403759 ns/op\n",
       "BenchmarkLoad-8   \t     141\t   8485898 ns/op\n",
       "BenchmarkLoad-8   \t     141\t   8666989 ns/op\n",
       "BenchmarkLoad-8   \t     138\t   8714442 ns/op\n",
       "BenchmarkLoad-8   \t     139\t   8575520 ns/op\n",
       "BenchmarkLoad-8   \t     139\t   8693032 ns/op\n",
       "BenchmarkLoad-8   \t     139\t   8448964 ns/op\n",
       "BenchmarkLoad-8   \t     135\t   8807743 ns/op\n",
       "BenchmarkLoad-8   \t     139\t   8452234 ns/op\n",
       "BenchmarkLoad-8   \t     141\t   8729340 ns/op\n",
       "BenchmarkLoad-8   \t     144\t   8553559 ns/op\n",
       "BenchmarkLoad-8   \t     136\t   8482243 ns/op\n",
       "BenchmarkLoad-8   \t     138\t   8543142 ns/op\n",
       "BenchmarkLoad-8   \t     122\t   8646490 ns/op\n",
       "BenchmarkLoad-8   \t     138\t   8683020 ns/op\n",
       "BenchmarkLoad-8   \t     139\t   8537712 ns/op\n",
       "BenchmarkLoad-8   \t     142\t   8626035 ns/op\n",
       "BenchmarkLoad-8   \t     142\t   8625999 ns/op\n",
       "BenchmarkLoad-8   \t     138\t   8696025 ns/op\n",
       "BenchmarkLoad-8   \t     136\t   8609539 ns/op\n",
       "BenchmarkLoad-8   \t     136\t   8480888 ns/op\n",
       "BenchmarkLoad-8   \t     134\t   8573819 ns/op\n",
       "BenchmarkLoad-8   \t     136\t   8453977 ns/op\n",
       "BenchmarkLoad-8   \t     140\t   8472540 ns/op\n",
       "BenchmarkLoad-8   \t     134\t   8489050 ns/op\n",
       "BenchmarkLoad-8   \t     141\t   8550195 ns/op\n",
       "BenchmarkLoad-8   \t     141\t   8669567 ns/op\n",
       "BenchmarkLoad-8   \t     135\t   8547195 ns/op\n",
       "BenchmarkLoad-8   \t     142\t   8577397 ns/op\n",
       "BenchmarkLoad-8   \t     139\t   8935416 ns/op\n",
       "PASS\n",
       "ok  \tgithub.com/prattmic/markdown-pgo/load\t82.072s"
      ]
     },
     "execution_count": 11,
     "metadata": {},
     "output_type": "execute_result"
    }
   ],
   "source": [
    "! go test github.com/prattmic/markdown-pgo/load -bench=. -count=40 -source $(pwd)/test.md -addr http://localhost:8080 > nopgo.txt\n",
    "from IPython.display import Code\n",
    "Code(filename='nopgo.txt')"
   ]
  },
  {
   "cell_type": "code",
   "execution_count": 12,
   "metadata": {},
   "outputs": [
    {
     "name": "stdout",
     "output_type": "stream",
     "text": [
      "Handling connection for 8081\n"
     ]
    },
    {
     "data": {
      "text/html": [
       "<style>pre { line-height: 125%; }\n",
       "td.linenos .normal { color: inherit; background-color: transparent; padding-left: 5px; padding-right: 5px; }\n",
       "span.linenos { color: inherit; background-color: transparent; padding-left: 5px; padding-right: 5px; }\n",
       "td.linenos .special { color: #000000; background-color: #ffffc0; padding-left: 5px; padding-right: 5px; }\n",
       "span.linenos.special { color: #000000; background-color: #ffffc0; padding-left: 5px; padding-right: 5px; }\n",
       ".output_html .hll { background-color: #ffffcc }\n",
       ".output_html { background: #f8f8f8; }\n",
       ".output_html .c { color: #3D7B7B; font-style: italic } /* Comment */\n",
       ".output_html .err { border: 1px solid #FF0000 } /* Error */\n",
       ".output_html .k { color: #008000; font-weight: bold } /* Keyword */\n",
       ".output_html .o { color: #666666 } /* Operator */\n",
       ".output_html .ch { color: #3D7B7B; font-style: italic } /* Comment.Hashbang */\n",
       ".output_html .cm { color: #3D7B7B; font-style: italic } /* Comment.Multiline */\n",
       ".output_html .cp { color: #9C6500 } /* Comment.Preproc */\n",
       ".output_html .cpf { color: #3D7B7B; font-style: italic } /* Comment.PreprocFile */\n",
       ".output_html .c1 { color: #3D7B7B; font-style: italic } /* Comment.Single */\n",
       ".output_html .cs { color: #3D7B7B; font-style: italic } /* Comment.Special */\n",
       ".output_html .gd { color: #A00000 } /* Generic.Deleted */\n",
       ".output_html .ge { font-style: italic } /* Generic.Emph */\n",
       ".output_html .ges { font-weight: bold; font-style: italic } /* Generic.EmphStrong */\n",
       ".output_html .gr { color: #E40000 } /* Generic.Error */\n",
       ".output_html .gh { color: #000080; font-weight: bold } /* Generic.Heading */\n",
       ".output_html .gi { color: #008400 } /* Generic.Inserted */\n",
       ".output_html .go { color: #717171 } /* Generic.Output */\n",
       ".output_html .gp { color: #000080; font-weight: bold } /* Generic.Prompt */\n",
       ".output_html .gs { font-weight: bold } /* Generic.Strong */\n",
       ".output_html .gu { color: #800080; font-weight: bold } /* Generic.Subheading */\n",
       ".output_html .gt { color: #0044DD } /* Generic.Traceback */\n",
       ".output_html .kc { color: #008000; font-weight: bold } /* Keyword.Constant */\n",
       ".output_html .kd { color: #008000; font-weight: bold } /* Keyword.Declaration */\n",
       ".output_html .kn { color: #008000; font-weight: bold } /* Keyword.Namespace */\n",
       ".output_html .kp { color: #008000 } /* Keyword.Pseudo */\n",
       ".output_html .kr { color: #008000; font-weight: bold } /* Keyword.Reserved */\n",
       ".output_html .kt { color: #B00040 } /* Keyword.Type */\n",
       ".output_html .m { color: #666666 } /* Literal.Number */\n",
       ".output_html .s { color: #BA2121 } /* Literal.String */\n",
       ".output_html .na { color: #687822 } /* Name.Attribute */\n",
       ".output_html .nb { color: #008000 } /* Name.Builtin */\n",
       ".output_html .nc { color: #0000FF; font-weight: bold } /* Name.Class */\n",
       ".output_html .no { color: #880000 } /* Name.Constant */\n",
       ".output_html .nd { color: #AA22FF } /* Name.Decorator */\n",
       ".output_html .ni { color: #717171; font-weight: bold } /* Name.Entity */\n",
       ".output_html .ne { color: #CB3F38; font-weight: bold } /* Name.Exception */\n",
       ".output_html .nf { color: #0000FF } /* Name.Function */\n",
       ".output_html .nl { color: #767600 } /* Name.Label */\n",
       ".output_html .nn { color: #0000FF; font-weight: bold } /* Name.Namespace */\n",
       ".output_html .nt { color: #008000; font-weight: bold } /* Name.Tag */\n",
       ".output_html .nv { color: #19177C } /* Name.Variable */\n",
       ".output_html .ow { color: #AA22FF; font-weight: bold } /* Operator.Word */\n",
       ".output_html .w { color: #bbbbbb } /* Text.Whitespace */\n",
       ".output_html .mb { color: #666666 } /* Literal.Number.Bin */\n",
       ".output_html .mf { color: #666666 } /* Literal.Number.Float */\n",
       ".output_html .mh { color: #666666 } /* Literal.Number.Hex */\n",
       ".output_html .mi { color: #666666 } /* Literal.Number.Integer */\n",
       ".output_html .mo { color: #666666 } /* Literal.Number.Oct */\n",
       ".output_html .sa { color: #BA2121 } /* Literal.String.Affix */\n",
       ".output_html .sb { color: #BA2121 } /* Literal.String.Backtick */\n",
       ".output_html .sc { color: #BA2121 } /* Literal.String.Char */\n",
       ".output_html .dl { color: #BA2121 } /* Literal.String.Delimiter */\n",
       ".output_html .sd { color: #BA2121; font-style: italic } /* Literal.String.Doc */\n",
       ".output_html .s2 { color: #BA2121 } /* Literal.String.Double */\n",
       ".output_html .se { color: #AA5D1F; font-weight: bold } /* Literal.String.Escape */\n",
       ".output_html .sh { color: #BA2121 } /* Literal.String.Heredoc */\n",
       ".output_html .si { color: #A45A77; font-weight: bold } /* Literal.String.Interpol */\n",
       ".output_html .sx { color: #008000 } /* Literal.String.Other */\n",
       ".output_html .sr { color: #A45A77 } /* Literal.String.Regex */\n",
       ".output_html .s1 { color: #BA2121 } /* Literal.String.Single */\n",
       ".output_html .ss { color: #19177C } /* Literal.String.Symbol */\n",
       ".output_html .bp { color: #008000 } /* Name.Builtin.Pseudo */\n",
       ".output_html .fm { color: #0000FF } /* Name.Function.Magic */\n",
       ".output_html .vc { color: #19177C } /* Name.Variable.Class */\n",
       ".output_html .vg { color: #19177C } /* Name.Variable.Global */\n",
       ".output_html .vi { color: #19177C } /* Name.Variable.Instance */\n",
       ".output_html .vm { color: #19177C } /* Name.Variable.Magic */\n",
       ".output_html .il { color: #666666 } /* Literal.Number.Integer.Long */</style><div class=\"highlight\"><pre><span></span>goos: darwin\n",
       "goarch: arm64\n",
       "pkg: github.com/prattmic/markdown-pgo/load\n",
       "cpu: Apple M3\n",
       "BenchmarkLoad-8   \t     134\t   8291251 ns/op\n",
       "BenchmarkLoad-8   \t     146\t   8499089 ns/op\n",
       "BenchmarkLoad-8   \t     139\t   8771565 ns/op\n",
       "BenchmarkLoad-8   \t     141\t   8652417 ns/op\n",
       "BenchmarkLoad-8   \t     138\t   8787800 ns/op\n",
       "BenchmarkLoad-8   \t     142\t   8415208 ns/op\n",
       "BenchmarkLoad-8   \t     139\t   8653329 ns/op\n",
       "BenchmarkLoad-8   \t     133\t  10330742 ns/op\n",
       "BenchmarkLoad-8   \t     133\t   8581844 ns/op\n",
       "BenchmarkLoad-8   \t     140\t   8566208 ns/op\n",
       "BenchmarkLoad-8   \t     140\t   8711599 ns/op\n",
       "BenchmarkLoad-8   \t     140\t   8657724 ns/op\n",
       "BenchmarkLoad-8   \t     139\t   9030309 ns/op\n",
       "BenchmarkLoad-8   \t     132\t   9005391 ns/op\n",
       "BenchmarkLoad-8   \t     135\t   8618515 ns/op\n",
       "BenchmarkLoad-8   \t     139\t   8555788 ns/op\n",
       "BenchmarkLoad-8   \t     138\t   9119862 ns/op\n",
       "BenchmarkLoad-8   \t     133\t   8597729 ns/op\n",
       "BenchmarkLoad-8   \t     142\t   8504548 ns/op\n",
       "BenchmarkLoad-8   \t     136\t   8453962 ns/op\n",
       "BenchmarkLoad-8   \t     139\t   8596076 ns/op\n",
       "BenchmarkLoad-8   \t     139\t   8373917 ns/op\n",
       "BenchmarkLoad-8   \t     141\t   8779497 ns/op\n",
       "BenchmarkLoad-8   \t     141\t   8560864 ns/op\n",
       "BenchmarkLoad-8   \t     140\t   8425115 ns/op\n",
       "BenchmarkLoad-8   \t     144\t   8499075 ns/op\n",
       "BenchmarkLoad-8   \t     139\t   8382801 ns/op\n",
       "BenchmarkLoad-8   \t     140\t   8589376 ns/op\n",
       "BenchmarkLoad-8   \t     138\t   8500852 ns/op\n",
       "BenchmarkLoad-8   \t     141\t   8621146 ns/op\n",
       "BenchmarkLoad-8   \t     140\t   8586607 ns/op\n",
       "BenchmarkLoad-8   \t     138\t   8412371 ns/op\n",
       "BenchmarkLoad-8   \t     139\t   8339606 ns/op\n",
       "BenchmarkLoad-8   \t     142\t   8603090 ns/op\n",
       "BenchmarkLoad-8   \t     100\t  10142140 ns/op\n",
       "BenchmarkLoad-8   \t     124\t   8782318 ns/op\n",
       "BenchmarkLoad-8   \t     141\t   8407178 ns/op\n",
       "BenchmarkLoad-8   \t     139\t   8863707 ns/op\n",
       "BenchmarkLoad-8   \t     142\t   8421548 ns/op\n",
       "BenchmarkLoad-8   \t     140\t   8789227 ns/op\n",
       "PASS\n",
       "ok  \tgithub.com/prattmic/markdown-pgo/load\t81.752s\n",
       "</pre></div>\n"
      ],
      "text/latex": [
       "\\begin{Verbatim}[commandchars=\\\\\\{\\}]\n",
       "goos: darwin\n",
       "goarch: arm64\n",
       "pkg: github.com/prattmic/markdown\\PYZhy{}pgo/load\n",
       "cpu: Apple M3\n",
       "BenchmarkLoad\\PYZhy{}8   \t     134\t   8291251 ns/op\n",
       "BenchmarkLoad\\PYZhy{}8   \t     146\t   8499089 ns/op\n",
       "BenchmarkLoad\\PYZhy{}8   \t     139\t   8771565 ns/op\n",
       "BenchmarkLoad\\PYZhy{}8   \t     141\t   8652417 ns/op\n",
       "BenchmarkLoad\\PYZhy{}8   \t     138\t   8787800 ns/op\n",
       "BenchmarkLoad\\PYZhy{}8   \t     142\t   8415208 ns/op\n",
       "BenchmarkLoad\\PYZhy{}8   \t     139\t   8653329 ns/op\n",
       "BenchmarkLoad\\PYZhy{}8   \t     133\t  10330742 ns/op\n",
       "BenchmarkLoad\\PYZhy{}8   \t     133\t   8581844 ns/op\n",
       "BenchmarkLoad\\PYZhy{}8   \t     140\t   8566208 ns/op\n",
       "BenchmarkLoad\\PYZhy{}8   \t     140\t   8711599 ns/op\n",
       "BenchmarkLoad\\PYZhy{}8   \t     140\t   8657724 ns/op\n",
       "BenchmarkLoad\\PYZhy{}8   \t     139\t   9030309 ns/op\n",
       "BenchmarkLoad\\PYZhy{}8   \t     132\t   9005391 ns/op\n",
       "BenchmarkLoad\\PYZhy{}8   \t     135\t   8618515 ns/op\n",
       "BenchmarkLoad\\PYZhy{}8   \t     139\t   8555788 ns/op\n",
       "BenchmarkLoad\\PYZhy{}8   \t     138\t   9119862 ns/op\n",
       "BenchmarkLoad\\PYZhy{}8   \t     133\t   8597729 ns/op\n",
       "BenchmarkLoad\\PYZhy{}8   \t     142\t   8504548 ns/op\n",
       "BenchmarkLoad\\PYZhy{}8   \t     136\t   8453962 ns/op\n",
       "BenchmarkLoad\\PYZhy{}8   \t     139\t   8596076 ns/op\n",
       "BenchmarkLoad\\PYZhy{}8   \t     139\t   8373917 ns/op\n",
       "BenchmarkLoad\\PYZhy{}8   \t     141\t   8779497 ns/op\n",
       "BenchmarkLoad\\PYZhy{}8   \t     141\t   8560864 ns/op\n",
       "BenchmarkLoad\\PYZhy{}8   \t     140\t   8425115 ns/op\n",
       "BenchmarkLoad\\PYZhy{}8   \t     144\t   8499075 ns/op\n",
       "BenchmarkLoad\\PYZhy{}8   \t     139\t   8382801 ns/op\n",
       "BenchmarkLoad\\PYZhy{}8   \t     140\t   8589376 ns/op\n",
       "BenchmarkLoad\\PYZhy{}8   \t     138\t   8500852 ns/op\n",
       "BenchmarkLoad\\PYZhy{}8   \t     141\t   8621146 ns/op\n",
       "BenchmarkLoad\\PYZhy{}8   \t     140\t   8586607 ns/op\n",
       "BenchmarkLoad\\PYZhy{}8   \t     138\t   8412371 ns/op\n",
       "BenchmarkLoad\\PYZhy{}8   \t     139\t   8339606 ns/op\n",
       "BenchmarkLoad\\PYZhy{}8   \t     142\t   8603090 ns/op\n",
       "BenchmarkLoad\\PYZhy{}8   \t     100\t  10142140 ns/op\n",
       "BenchmarkLoad\\PYZhy{}8   \t     124\t   8782318 ns/op\n",
       "BenchmarkLoad\\PYZhy{}8   \t     141\t   8407178 ns/op\n",
       "BenchmarkLoad\\PYZhy{}8   \t     139\t   8863707 ns/op\n",
       "BenchmarkLoad\\PYZhy{}8   \t     142\t   8421548 ns/op\n",
       "BenchmarkLoad\\PYZhy{}8   \t     140\t   8789227 ns/op\n",
       "PASS\n",
       "ok  \tgithub.com/prattmic/markdown\\PYZhy{}pgo/load\t81.752s\n",
       "\\end{Verbatim}\n"
      ],
      "text/plain": [
       "goos: darwin\n",
       "goarch: arm64\n",
       "pkg: github.com/prattmic/markdown-pgo/load\n",
       "cpu: Apple M3\n",
       "BenchmarkLoad-8   \t     134\t   8291251 ns/op\n",
       "BenchmarkLoad-8   \t     146\t   8499089 ns/op\n",
       "BenchmarkLoad-8   \t     139\t   8771565 ns/op\n",
       "BenchmarkLoad-8   \t     141\t   8652417 ns/op\n",
       "BenchmarkLoad-8   \t     138\t   8787800 ns/op\n",
       "BenchmarkLoad-8   \t     142\t   8415208 ns/op\n",
       "BenchmarkLoad-8   \t     139\t   8653329 ns/op\n",
       "BenchmarkLoad-8   \t     133\t  10330742 ns/op\n",
       "BenchmarkLoad-8   \t     133\t   8581844 ns/op\n",
       "BenchmarkLoad-8   \t     140\t   8566208 ns/op\n",
       "BenchmarkLoad-8   \t     140\t   8711599 ns/op\n",
       "BenchmarkLoad-8   \t     140\t   8657724 ns/op\n",
       "BenchmarkLoad-8   \t     139\t   9030309 ns/op\n",
       "BenchmarkLoad-8   \t     132\t   9005391 ns/op\n",
       "BenchmarkLoad-8   \t     135\t   8618515 ns/op\n",
       "BenchmarkLoad-8   \t     139\t   8555788 ns/op\n",
       "BenchmarkLoad-8   \t     138\t   9119862 ns/op\n",
       "BenchmarkLoad-8   \t     133\t   8597729 ns/op\n",
       "BenchmarkLoad-8   \t     142\t   8504548 ns/op\n",
       "BenchmarkLoad-8   \t     136\t   8453962 ns/op\n",
       "BenchmarkLoad-8   \t     139\t   8596076 ns/op\n",
       "BenchmarkLoad-8   \t     139\t   8373917 ns/op\n",
       "BenchmarkLoad-8   \t     141\t   8779497 ns/op\n",
       "BenchmarkLoad-8   \t     141\t   8560864 ns/op\n",
       "BenchmarkLoad-8   \t     140\t   8425115 ns/op\n",
       "BenchmarkLoad-8   \t     144\t   8499075 ns/op\n",
       "BenchmarkLoad-8   \t     139\t   8382801 ns/op\n",
       "BenchmarkLoad-8   \t     140\t   8589376 ns/op\n",
       "BenchmarkLoad-8   \t     138\t   8500852 ns/op\n",
       "BenchmarkLoad-8   \t     141\t   8621146 ns/op\n",
       "BenchmarkLoad-8   \t     140\t   8586607 ns/op\n",
       "BenchmarkLoad-8   \t     138\t   8412371 ns/op\n",
       "BenchmarkLoad-8   \t     139\t   8339606 ns/op\n",
       "BenchmarkLoad-8   \t     142\t   8603090 ns/op\n",
       "BenchmarkLoad-8   \t     100\t  10142140 ns/op\n",
       "BenchmarkLoad-8   \t     124\t   8782318 ns/op\n",
       "BenchmarkLoad-8   \t     141\t   8407178 ns/op\n",
       "BenchmarkLoad-8   \t     139\t   8863707 ns/op\n",
       "BenchmarkLoad-8   \t     142\t   8421548 ns/op\n",
       "BenchmarkLoad-8   \t     140\t   8789227 ns/op\n",
       "PASS\n",
       "ok  \tgithub.com/prattmic/markdown-pgo/load\t81.752s"
      ]
     },
     "execution_count": 12,
     "metadata": {},
     "output_type": "execute_result"
    }
   ],
   "source": [
    "!go test github.com/prattmic/markdown-pgo/load -bench=. -count=40 -source $(pwd)/test.md -addr \"http://localhost:8081\" > withpgo.txt\n",
    "\n",
    "from IPython.display import Code\n",
    "Code(filename='withpgo.txt')"
   ]
  },
  {
   "cell_type": "code",
   "execution_count": 13,
   "metadata": {},
   "outputs": [
    {
     "data": {
      "text/plain": [
       "0"
      ]
     },
     "execution_count": 13,
     "metadata": {},
     "output_type": "execute_result"
    }
   ],
   "source": [
    "!go install golang.org/x/perf/cmd/benchstat@latest"
   ]
  },
  {
   "cell_type": "code",
   "execution_count": 14,
   "metadata": {},
   "outputs": [
    {
     "name": "stdout",
     "output_type": "stream",
     "text": [
      "goos: darwin\n",
      "goarch: arm64\n",
      "pkg: github.com/prattmic/markdown-pgo/load\n",
      "cpu: Apple M3\n",
      "       │  nopgo.txt  │          withpgo.txt          │\n",
      "       │   sec/op    │   sec/op     vs base          │\n",
      "Load-8   8.575m ± 1%   8.593m ± 1%  ~ (p=0.543 n=40)\n"
     ]
    }
   ],
   "source": [
    "%%bash\n",
    "benchstat nopgo.txt withpgo.txt"
   ]
  },
  {
   "cell_type": "code",
   "execution_count": 15,
   "metadata": {},
   "outputs": [
    {
     "name": "stdout",
     "output_type": "stream",
     "text": [
      "\u001b[0m\u001b[1mlinode_lke_cluster.pgo-demo: Refreshing state... [id=245474]\u001b[0m\n",
      "\u001b[0m\u001b[1mlocal_file.kubeconfig: Refreshing state... [id=54a7a892a081868681d9879efa309a526e67b7c4]\u001b[0m\n",
      "\n",
      "Terraform used the selected providers to generate the following execution\n",
      "plan. Resource actions are indicated with the following symbols:\n",
      "  \u001b[31m-\u001b[0m destroy\u001b[0m\n",
      "\n",
      "Terraform will perform the following actions:\n",
      "\n",
      "\u001b[1m  # linode_lke_cluster.pgo-demo\u001b[0m will be \u001b[1m\u001b[31mdestroyed\u001b[0m\n",
      "\u001b[0m  \u001b[31m-\u001b[0m\u001b[0m resource \"linode_lke_cluster\" \"pgo-demo\" {\n",
      "      \u001b[31m-\u001b[0m\u001b[0m api_endpoints = [\n",
      "          \u001b[31m-\u001b[0m\u001b[0m \"https://441c51eb-da7a-4af6-970b-5a79cd515f80.fr-par-2.linodelke.net:443\",\n",
      "          \u001b[31m-\u001b[0m\u001b[0m \"https://441c51eb-da7a-4af6-970b-5a79cd515f80.fr-par-2.linodelke.net:6443\",\n",
      "          \u001b[31m-\u001b[0m\u001b[0m \"https://172.232.48.54:443\",\n",
      "          \u001b[31m-\u001b[0m\u001b[0m \"https://172.232.48.54:6443\",\n",
      "        ] \u001b[90m-> null\u001b[0m\u001b[0m\n",
      "      \u001b[31m-\u001b[0m\u001b[0m dashboard_url = \"https://144c6d58-aad4-4fb1-b34d-1a347024f3bc.dashboard.fr-par-2.linodelke.net\" \u001b[90m-> null\u001b[0m\u001b[0m\n",
      "      \u001b[31m-\u001b[0m\u001b[0m id            = \"245474\" \u001b[90m-> null\u001b[0m\u001b[0m\n",
      "      \u001b[31m-\u001b[0m\u001b[0m k8s_version   = \"1.29\" \u001b[90m-> null\u001b[0m\u001b[0m\n",
      "      \u001b[31m-\u001b[0m\u001b[0m kubeconfig    = (sensitive value) \u001b[90m-> null\u001b[0m\u001b[0m\n",
      "      \u001b[31m-\u001b[0m\u001b[0m label         = \"pgo-demo\" \u001b[90m-> null\u001b[0m\u001b[0m\n",
      "      \u001b[31m-\u001b[0m\u001b[0m region        = \"fr-par\" \u001b[90m-> null\u001b[0m\u001b[0m\n",
      "      \u001b[31m-\u001b[0m\u001b[0m status        = \"ready\" \u001b[90m-> null\u001b[0m\u001b[0m\n",
      "      \u001b[31m-\u001b[0m\u001b[0m tags          = [] \u001b[90m-> null\u001b[0m\u001b[0m\n",
      "\n",
      "      \u001b[31m-\u001b[0m\u001b[0m control_plane {\n",
      "          \u001b[31m-\u001b[0m\u001b[0m high_availability = false \u001b[90m-> null\u001b[0m\u001b[0m\n",
      "        }\n",
      "\n",
      "      \u001b[31m-\u001b[0m\u001b[0m pool {\n",
      "          \u001b[31m-\u001b[0m\u001b[0m count           = 2 \u001b[90m-> null\u001b[0m\u001b[0m\n",
      "          \u001b[31m-\u001b[0m\u001b[0m disk_encryption = \"disabled\" \u001b[90m-> null\u001b[0m\u001b[0m\n",
      "          \u001b[31m-\u001b[0m\u001b[0m id              = 389357 \u001b[90m-> null\u001b[0m\u001b[0m\n",
      "          \u001b[31m-\u001b[0m\u001b[0m nodes           = [\n",
      "              \u001b[31m-\u001b[0m\u001b[0m {\n",
      "                  \u001b[31m-\u001b[0m\u001b[0m id          = \"389357-30c062d40000\"\n",
      "                  \u001b[31m-\u001b[0m\u001b[0m instance_id = 65383498\n",
      "                  \u001b[31m-\u001b[0m\u001b[0m status      = \"ready\"\n",
      "                },\n",
      "              \u001b[31m-\u001b[0m\u001b[0m {\n",
      "                  \u001b[31m-\u001b[0m\u001b[0m id          = \"389357-4cdbdaac0000\"\n",
      "                  \u001b[31m-\u001b[0m\u001b[0m instance_id = 65379745\n",
      "                  \u001b[31m-\u001b[0m\u001b[0m status      = \"ready\"\n",
      "                },\n",
      "            ] \u001b[90m-> null\u001b[0m\u001b[0m\n",
      "          \u001b[31m-\u001b[0m\u001b[0m tags            = [] \u001b[90m-> null\u001b[0m\u001b[0m\n",
      "          \u001b[31m-\u001b[0m\u001b[0m type            = \"g6-standard-2\" \u001b[90m-> null\u001b[0m\u001b[0m\n",
      "        }\n",
      "    }\n",
      "\n",
      "\u001b[1m  # local_file.kubeconfig\u001b[0m will be \u001b[1m\u001b[31mdestroyed\u001b[0m\n",
      "\u001b[0m  \u001b[31m-\u001b[0m\u001b[0m resource \"local_file\" \"kubeconfig\" {\n",
      "      \u001b[31m-\u001b[0m\u001b[0m content              = (sensitive value) \u001b[90m-> null\u001b[0m\u001b[0m\n",
      "      \u001b[31m-\u001b[0m\u001b[0m content_base64sha256 = \"4TWGs+efmJvMOhSKOQD3M89VSGaFBzCQXs1nW82JXg4=\" \u001b[90m-> null\u001b[0m\u001b[0m\n",
      "      \u001b[31m-\u001b[0m\u001b[0m content_base64sha512 = \"3mEPdY60ZWnCGdj1f1o6Yoo4qApGW9fTFMUdyw1ogt7zlrAlC+040ADsabZOZyhInKWR9IR2BBQib6Zhwbocfw==\" \u001b[90m-> null\u001b[0m\u001b[0m\n",
      "      \u001b[31m-\u001b[0m\u001b[0m content_md5          = \"214bb32cae02c77e0986d6c8c3eab1a6\" \u001b[90m-> null\u001b[0m\u001b[0m\n",
      "      \u001b[31m-\u001b[0m\u001b[0m content_sha1         = \"54a7a892a081868681d9879efa309a526e67b7c4\" \u001b[90m-> null\u001b[0m\u001b[0m\n",
      "      \u001b[31m-\u001b[0m\u001b[0m content_sha256       = \"e13586b3e79f989bcc3a148a3900f733cf554866850730905ecd675bcd895e0e\" \u001b[90m-> null\u001b[0m\u001b[0m\n",
      "      \u001b[31m-\u001b[0m\u001b[0m content_sha512       = \"de610f758eb46569c219d8f57f5a3a628a38a80a465bd7d314c51dcb0d6882def396b0250bed38d000ec69b64e6728489ca591f484760414226fa661c1ba1c7f\" \u001b[90m-> null\u001b[0m\u001b[0m\n",
      "      \u001b[31m-\u001b[0m\u001b[0m directory_permission = \"0777\" \u001b[90m-> null\u001b[0m\u001b[0m\n",
      "      \u001b[31m-\u001b[0m\u001b[0m file_permission      = \"0777\" \u001b[90m-> null\u001b[0m\u001b[0m\n",
      "      \u001b[31m-\u001b[0m\u001b[0m filename             = \"kubeconfig.yaml\" \u001b[90m-> null\u001b[0m\u001b[0m\n",
      "      \u001b[31m-\u001b[0m\u001b[0m id                   = \"54a7a892a081868681d9879efa309a526e67b7c4\" \u001b[90m-> null\u001b[0m\u001b[0m\n",
      "    }\n",
      "\n",
      "\u001b[1mPlan:\u001b[0m 0 to add, 0 to change, 2 to destroy.\n",
      "\u001b[0m\u001b[0m\u001b[1mlocal_file.kubeconfig: Destroying... [id=54a7a892a081868681d9879efa309a526e67b7c4]\u001b[0m\u001b[0m\n",
      "\u001b[0m\u001b[1mlocal_file.kubeconfig: Destruction complete after 0s\u001b[0m\n",
      "\u001b[0m\u001b[1mlinode_lke_cluster.pgo-demo: Destroying... [id=245474]\u001b[0m\u001b[0m\n",
      "\u001b[0m\u001b[1mlinode_lke_cluster.pgo-demo: Destruction complete after 7s\u001b[0m\n",
      "\u001b[0m\u001b[1m\u001b[32m\n",
      "Destroy complete! Resources: 2 destroyed.\n",
      "\u001b[0m"
     ]
    },
    {
     "data": {
      "text/plain": [
       "0"
      ]
     },
     "execution_count": 15,
     "metadata": {},
     "output_type": "execute_result"
    },
    {
     "name": "stderr",
     "output_type": "stream",
     "text": [
      "error: lost connection to pod\n",
      "error: lost connection to pod\n"
     ]
    }
   ],
   "source": [
    "!terraform destroy -auto-approve"
   ]
  },
  {
   "cell_type": "code",
   "execution_count": 19,
   "metadata": {},
   "outputs": [
    {
     "data": {
      "text/plain": [
       "0"
      ]
     },
     "execution_count": 19,
     "metadata": {},
     "output_type": "execute_result"
    }
   ],
   "source": [
    "# run ./demo/demo\n",
    "! go test github.com/prattmic/markdown-pgo/load -bench=. -count=40 -source $(pwd)/test.md -addr http://localhost:8080 > nopgo-local.txt"
   ]
  },
  {
   "cell_type": "code",
   "execution_count": 20,
   "metadata": {},
   "outputs": [
    {
     "data": {
      "text/plain": [
       "0"
      ]
     },
     "execution_count": 20,
     "metadata": {},
     "output_type": "execute_result"
    }
   ],
   "source": [
    "# run ./demo/demo-pgo\n",
    "! go test github.com/prattmic/markdown-pgo/load -bench=. -count=40 -source $(pwd)/test.md -addr http://localhost:8080 > withpgo-local.txt"
   ]
  },
  {
   "cell_type": "code",
   "execution_count": 21,
   "metadata": {},
   "outputs": [
    {
     "name": "stdout",
     "output_type": "stream",
     "text": [
      "goos: darwin\n",
      "goarch: arm64\n",
      "pkg: github.com/prattmic/markdown-pgo/load\n",
      "cpu: Apple M3\n",
      "       │ nopgo-local.txt │         withpgo-local.txt          │\n",
      "       │     sec/op      │   sec/op     vs base               │\n",
      "Load-8       114.2µ ± 0%   114.8µ ± 1%  +0.47% (p=0.000 n=40)\n"
     ]
    }
   ],
   "source": [
    "%%bash\n",
    "benchstat nopgo-local.txt withpgo-local.txt"
   ]
  }
 ],
 "metadata": {
  "kernelspec": {
   "display_name": ".venv",
   "language": "python",
   "name": "python3"
  },
  "language_info": {
   "codemirror_mode": {
    "name": "ipython",
    "version": 3
   },
   "file_extension": ".py",
   "mimetype": "text/x-python",
   "name": "python",
   "nbconvert_exporter": "python",
   "pygments_lexer": "ipython3",
   "version": "3.11.10"
  }
 },
 "nbformat": 4,
 "nbformat_minor": 2
}
